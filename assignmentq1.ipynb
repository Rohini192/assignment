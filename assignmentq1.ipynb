{
 "cells": [
  {
   "cell_type": "code",
   "execution_count": 3,
   "id": "8f05b400",
   "metadata": {},
   "outputs": [
    {
     "name": "stdout",
     "output_type": "stream",
     "text": [
      "2002,2009,2016,2023,2037,2044,2051,2058,2072,2079,2086,2093,2107,2114,2121,2128,2142,2149,2156,2163,2177,2184,2191,2198,2212,2219,2226,2233,2247,2254,2261,2268,2282,2289,2296,2303,2317,2324,2331,2338,2352,2359,2366,2373,2387,2394,2401,2408,2422,2429,2436,2443,2457,2464,2471,2478,2492,2499,2506,2513,2527,2534,2541,2548,2562,2569,2576,2583,2597,2604,2611,2618,2632,2639,2646,2653,2667,2674,2681,2688,2702,2709,2716,2723,2737,2744,2751,2758,2772,2779,2786,2793,2807,2814,2821,2828,2842,2849,2856,2863,2877,2884,2891,2898,2912,2919,2926,2933,2947,2954,2961,2968,2982,2989,2996,3003,3017,3024,3031,3038,3052,3059,3066,3073,3087,3094,3101,3108,3122,3129,3136,3143,3157,3164,3171,3178,3192,3199\n"
     ]
    }
   ],
   "source": [
    "## Write a program which will find all such numbers which are divisible by 7 but are not a multiple of 5\n",
    "## between 2000 and 3200 (both included).\n",
    "## The numbers obtained should be printed in a comma-separated sequence on a single line.\n",
    "import math ## built in functions which extends the list of math function\n",
    "rl=[] ## list is created\n",
    "for x in range(2000, 3200): ## this will start the loop from 2000 till 3200\n",
    "    if (x%7==0) and (x%5!=0):## satisfies the give problem statement \n",
    "        rl.append(str(x)) ## get a list as input from user , str separator\n",
    "print (','.join(rl)) ## returns a string in which the element of the sequence has been joined by str separator\n"
   ]
  },
  {
   "cell_type": "code",
   "execution_count": 8,
   "id": "aadd0141",
   "metadata": {},
   "outputs": [
    {
     "name": "stdout",
     "output_type": "stream",
     "text": [
      "my first name:rohini\n",
      "my last name:v\n",
      "my full name is:v rohini\n"
     ]
    }
   ],
   "source": [
    "## Write a Python program to accept the user's first and last name and then getting them \n",
    "## printed in the the reverse order with a space between first name and last name.\n",
    "firstname = input(\"my first name:\") ## ask the user for first name and returns the name in newline\n",
    "lastname  = input(\"my last name:\")\n",
    "print(\"my full name is:\" + lastname + \" \" + firstname) ## returns string in reverce order"
   ]
  },
  {
   "cell_type": "code",
   "execution_count": 10,
   "id": "b6b32bbd",
   "metadata": {},
   "outputs": [
    {
     "name": "stdout",
     "output_type": "stream",
     "text": [
      "the volume of sphere is: 904.3199999999999\n"
     ]
    }
   ],
   "source": [
    "## Write a Python program to find the volume of a sphere with diameter 12 cm.\n",
    "## Formula: V=4/3 * π * r3\n",
    "import math ## built in functions which extends the list of math function\n",
    "pi = 3.14 ## value of pi\n",
    "r = 6 ## value of diameter is 12 so d/2 is r\n",
    "v = 4/3 * pi* r**3 \n",
    "print(\"the volume of sphere is:\",v)\n",
    "\n",
    "\n"
   ]
  },
  {
   "cell_type": "code",
   "execution_count": null,
   "id": "1339a921",
   "metadata": {},
   "outputs": [],
   "source": []
  }
 ],
 "metadata": {
  "kernelspec": {
   "display_name": "Python 3",
   "language": "python",
   "name": "python3"
  },
  "language_info": {
   "codemirror_mode": {
    "name": "ipython",
    "version": 3
   },
   "file_extension": ".py",
   "mimetype": "text/x-python",
   "name": "python",
   "nbconvert_exporter": "python",
   "pygments_lexer": "ipython3",
   "version": "3.8.8"
  }
 },
 "nbformat": 4,
 "nbformat_minor": 5
}
